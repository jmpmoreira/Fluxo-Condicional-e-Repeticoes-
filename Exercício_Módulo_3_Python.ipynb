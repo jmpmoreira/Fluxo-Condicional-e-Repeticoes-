{
  "nbformat": 4,
  "nbformat_minor": 0,
  "metadata": {
    "colab": {
      "name": "Exercício Módulo 3 Python",
      "provenance": []
    },
    "kernelspec": {
      "name": "python3",
      "display_name": "Python 3"
    },
    "language_info": {
      "name": "python"
    }
  },
  "cells": [
    {
      "cell_type": "markdown",
      "source": [
        "\n",
        "Na lista propaganda_online abaixo, estão presente os dados de usuários que acessaram\n",
        "um determinado site e se o mesmo clicou em uma propaganda.\n",
        "\n"
      ],
      "metadata": {
        "id": "KrpQHok4arx6"
      }
    },
    {
      "cell_type": "code",
      "execution_count": 15,
      "metadata": {
        "id": "XZghvVDkaktS"
      },
      "outputs": [],
      "source": [
        "propaganda_online = [\n",
        " {'tempo_gasto_site': 68.95, 'idade': 35, 'renda_area': 61833.90,\n",
        " 'tempo_gasto_internet': 256.09, 'cidade': 'Wrightburgh',\n",
        " 'pais': 'Tunisia', 'clicou_no_ad': 0\n",
        " },\n",
        " {'tempo_gasto_site': 80.23, 'idade': 31, 'renda_area': 68441.85,\n",
        " 'tempo_gasto_internet': 193.77, 'cidade': 'West Jodi',\n",
        " 'pais': 'Nauru', 'clicou_no_ad': 0\n",
        " },\n",
        " {'tempo_gasto_site': 69.47, 'idade': 26, 'renda_area': 59785.94,\n",
        " 'tempo_gasto_internet': 236.50, 'cidade': 'Davidton',\n",
        " 'pais': 'San Marino', 'clicou_no_ad': 0\n",
        " },\n",
        " {'tempo_gasto_site': 68.37, 'idade': 35, 'renda_area': 73889.99,\n",
        " 'tempo_gasto_internet': 225.58, 'cidade': 'South Manuel',\n",
        " 'pais': 'Iceland', 'clicou_no_ad': 0\n",
        " },\n",
        " {'tempo_gasto_site': 88.91, 'idade': 33, 'renda_area': 53852.85,\n",
        "   'tempo_gasto_internet': 208.36, 'cidade': 'Brandonstad',\n",
        " 'pais': 'Myanmar', 'clicou_no_ad': 0\n",
        " },\n",
        " {'tempo_gasto_site': None, 'idade': 48, 'renda_area': 24593.33,\n",
        " 'tempo_gasto_internet': 131.76, 'cidade': 'Port Jefferybury',\n",
        " 'pais': 'Australia', 'clicou_no_ad': 1\n",
        " },\n",
        " {'tempo_gasto_site': 74.53, 'idade': 30, 'renda_area': 68862.00,\n",
        " 'tempo_gasto_internet': 221.51, 'cidade': 'West Colin',\n",
        " 'pais': 'Grenada'},\n",
        " {'tempo_gasto_site': 69.88, 'idade': 20, 'renda_area': 55642.32,\n",
        " 'tempo_gasto_internet': 183.82, 'cidade': 'Ramirezton',\n",
        " 'pais': 'Ghana', 'clicou_no_ad': 0\n",
        " }\n",
        "]"
      ]
    },
    {
      "cell_type": "markdown",
      "source": [
        "Para iterar pelos elementos da lista, use o código abaixo.\n"
      ],
      "metadata": {
        "id": "4MCA5mQkbT6x"
      }
    },
    {
      "cell_type": "code",
      "source": [
        "for dado_de_usuario in propaganda_online:\n",
        " print(dado_de_usuario)"
      ],
      "metadata": {
        "colab": {
          "base_uri": "https://localhost:8080/"
        },
        "id": "1Lw9loW6bM5B",
        "outputId": "b8273140-405d-4149-eb04-b5f3f8618bf2"
      },
      "execution_count": 16,
      "outputs": [
        {
          "output_type": "stream",
          "name": "stdout",
          "text": [
            "{'tempo_gasto_site': 68.95, 'idade': 35, 'renda_area': 61833.9, 'tempo_gasto_internet': 256.09, 'cidade': 'Wrightburgh', 'pais': 'Tunisia', 'clicou_no_ad': 0}\n",
            "{'tempo_gasto_site': 80.23, 'idade': 31, 'renda_area': 68441.85, 'tempo_gasto_internet': 193.77, 'cidade': 'West Jodi', 'pais': 'Nauru', 'clicou_no_ad': 0}\n",
            "{'tempo_gasto_site': 69.47, 'idade': 26, 'renda_area': 59785.94, 'tempo_gasto_internet': 236.5, 'cidade': 'Davidton', 'pais': 'San Marino', 'clicou_no_ad': 0}\n",
            "{'tempo_gasto_site': 68.37, 'idade': 35, 'renda_area': 73889.99, 'tempo_gasto_internet': 225.58, 'cidade': 'South Manuel', 'pais': 'Iceland', 'clicou_no_ad': 0}\n",
            "{'tempo_gasto_site': 88.91, 'idade': 33, 'renda_area': 53852.85, 'tempo_gasto_internet': 208.36, 'cidade': 'Brandonstad', 'pais': 'Myanmar', 'clicou_no_ad': 0}\n",
            "{'tempo_gasto_site': None, 'idade': 48, 'renda_area': 24593.33, 'tempo_gasto_internet': 131.76, 'cidade': 'Port Jefferybury', 'pais': 'Australia', 'clicou_no_ad': 1}\n",
            "{'tempo_gasto_site': 74.53, 'idade': 30, 'renda_area': 68862.0, 'tempo_gasto_internet': 221.51, 'cidade': 'West Colin', 'pais': 'Grenada'}\n",
            "{'tempo_gasto_site': 69.88, 'idade': 20, 'renda_area': 55642.32, 'tempo_gasto_internet': 183.82, 'cidade': 'Ramirezton', 'pais': 'Ghana', 'clicou_no_ad': 0}\n"
          ]
        }
      ]
    },
    {
      "cell_type": "markdown",
      "source": [
        "Crie uma lista chamada paises com o pais dos usuários com mais de 30 anos (não tratando nenhum erro).\n"
      ],
      "metadata": {
        "id": "l5kBmmkjaZUs"
      }
    },
    {
      "cell_type": "code",
      "source": [
        "paises = []\n",
        "for dado_de_usuario in propaganda_online:\n",
        "  try: \n",
        "    if dado_de_usuario ['idade'] > 30: \n",
        "      paises.append(dado_de_usuario['pais'])\n",
        "\n",
        "  except: \n",
        "       \n",
        "   \n",
        "    pass\n",
        "print(paises)\n",
        "print (type(paises))\n"
      ],
      "metadata": {
        "colab": {
          "base_uri": "https://localhost:8080/"
        },
        "id": "yix0634rQQ1M",
        "outputId": "a409c18a-6cb9-4c7c-e39e-43925cf51569"
      },
      "execution_count": 46,
      "outputs": [
        {
          "output_type": "stream",
          "name": "stdout",
          "text": [
            "['Tunisia', 'Nauru', 'Iceland', 'Myanmar', 'Australia']\n",
            "<class 'list'>\n"
          ]
        }
      ]
    },
    {
      "cell_type": "markdown",
      "source": [
        "Crie uma lista chamada paises com o pais dos usuários com mais de 30 anos ( tratando um possível erro).\n"
      ],
      "metadata": {
        "id": "eAbPsYWBdHun"
      }
    },
    {
      "cell_type": "code",
      "source": [
        "paises = []\n",
        "for dado_de_usuario in propaganda_online:\n",
        "  try: \n",
        "    if dado_de_usuario ['idade'] > 30: \n",
        "      paises.append(dado_de_usuario['pais'])\n",
        "\n",
        "  except Exception:\n",
        "\n",
        "    print('Contem usario sem informção de pais')\n",
        "       \n",
        "   \n",
        "    pass\n",
        "print(paises)\n",
        "print (type(paises))"
      ],
      "metadata": {
        "colab": {
          "base_uri": "https://localhost:8080/"
        },
        "id": "IL7bQdOpczmE",
        "outputId": "96e66f52-2905-4764-e2b7-098f06f01234"
      },
      "execution_count": 48,
      "outputs": [
        {
          "output_type": "stream",
          "name": "stdout",
          "text": [
            "['Tunisia', 'Nauru', 'Iceland', 'Myanmar', 'Australia']\n",
            "<class 'list'>\n"
          ]
        }
      ]
    },
    {
      "cell_type": "markdown",
      "source": [
        "Crie uma lista chamada leads com a renda dos usuários que clicaram na propaganda (opção que trata algum erro."
      ],
      "metadata": {
        "id": "ry2M68nVPymL"
      }
    },
    {
      "cell_type": "code",
      "source": [
        "leads = []\n",
        "\n",
        "for dado_de_usuario in propaganda_online:\n",
        "\n",
        "  try:\n",
        "\n",
        "    if dado_de_usuario ['clicou_no_ad'] > 0:\n",
        "\n",
        "      leads.append(dado_de_usuario['renda_area'])\n",
        "\n",
        "  except Exception:\n",
        "\n",
        "    print('Contem usario sem informção de anúncio')\n",
        "\n",
        "print(leads)"
      ],
      "metadata": {
        "colab": {
          "base_uri": "https://localhost:8080/"
        },
        "id": "ZbHngAIsPzUK",
        "outputId": "330a7349-ca94-4ea0-b846-aeb19a3c64cc"
      },
      "execution_count": 31,
      "outputs": [
        {
          "output_type": "stream",
          "name": "stdout",
          "text": [
            "Contem usario sem informção de anúncio\n",
            "[24593.33]\n"
          ]
        }
      ]
    },
    {
      "cell_type": "markdown",
      "source": [
        "Crie uma lista chamada leads com a renda dos usuários que clicaram na propaganda (opção que não trata o erro)."
      ],
      "metadata": {
        "id": "dCMUD1opRoVa"
      }
    },
    {
      "cell_type": "code",
      "source": [
        "leads = []\n",
        "\n",
        "for dado_de_usuario in propaganda_online:\n",
        "\n",
        "  try:\n",
        "\n",
        "    if dado_de_usuario['clicou_no_ad'] == 1 :\n",
        "\n",
        "      leads.append(dado_de_usuario['renda_area'])\n",
        "\n",
        "  except:\n",
        "\n",
        "    pass\n",
        "\n",
        "print(leads)"
      ],
      "metadata": {
        "colab": {
          "base_uri": "https://localhost:8080/"
        },
        "id": "BK_ajnXyaFy2",
        "outputId": "6609e746-cb91-4a79-867c-0ff94c02523a"
      },
      "execution_count": 32,
      "outputs": [
        {
          "output_type": "stream",
          "name": "stdout",
          "text": [
            "[24593.33]\n"
          ]
        }
      ]
    },
    {
      "cell_type": "markdown",
      "source": [
        " Crie uma lista chamada cidades com a cidade dos usuários que passaram mais de 70\n",
        "segundos no site (opção que não trata nenhum erro)"
      ],
      "metadata": {
        "id": "2s_kylvQdZv1"
      }
    },
    {
      "cell_type": "code",
      "source": [
        "cidades = []\n",
        "\n",
        "for dado_de_usuario in propaganda_online:  \n",
        "  \n",
        "  try: \n",
        "\n",
        "    if dado_de_usuario['tempo_gasto_site'] > 70 : \n",
        "\n",
        "      cidades.append(dado_de_usuario['cidade']) \n",
        "   \n",
        "  except: \n",
        "\n",
        "    pass \n",
        "\n",
        "print(cidades)        \n"
      ],
      "metadata": {
        "colab": {
          "base_uri": "https://localhost:8080/"
        },
        "id": "TmKfLxMcdb7V",
        "outputId": "4804595a-fbe1-49e6-83ab-6f5dac7e5f90"
      },
      "execution_count": 50,
      "outputs": [
        {
          "output_type": "stream",
          "name": "stdout",
          "text": [
            "['West Jodi', 'Brandonstad', 'West Colin']\n"
          ]
        }
      ]
    },
    {
      "cell_type": "markdown",
      "source": [
        "Crie uma lista chamada cidades com a cidade dos usuários que passaram mais de 70 segundos no site (opção q trata erro)"
      ],
      "metadata": {
        "id": "LfHbACMIf6Al"
      }
    },
    {
      "cell_type": "code",
      "source": [
        "cidades = []\n",
        "\n",
        "for dado_de_usuario in propaganda_online:  \n",
        "  \n",
        "  try: \n",
        "\n",
        "    if dado_de_usuario['tempo_gasto_site'] > 70 : \n",
        "\n",
        "      cidades.append(dado_de_usuario['cidade']) \n",
        "   \n",
        "  except Exception:\n",
        "\n",
        "    print('Contem usario sem informção de cidade')\n",
        "\n",
        "    pass \n",
        "\n",
        "print(cidades)  "
      ],
      "metadata": {
        "colab": {
          "base_uri": "https://localhost:8080/"
        },
        "id": "YoVvcpaze33N",
        "outputId": "fbdf221b-2da5-4d0e-d6e3-06e5f52f5fd6"
      },
      "execution_count": 52,
      "outputs": [
        {
          "output_type": "stream",
          "name": "stdout",
          "text": [
            "Contem usario sem informção de cidade\n",
            "['West Jodi', 'Brandonstad', 'West Colin']\n"
          ]
        }
      ]
    }
  ]
}